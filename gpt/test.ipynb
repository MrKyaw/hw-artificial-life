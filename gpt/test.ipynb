{
 "cells": [
  {
   "cell_type": "code",
   "execution_count": 3,
   "id": "2f2fcb13",
   "metadata": {},
   "outputs": [],
   "source": [
    "class RawData:\n",
    "    def __init__(\n",
    "        self,\n",
    "        env_name,\n",
    "        brain_name,\n",
    "        search_seed,\n",
    "        env_seed,\n",
    "        env_sdf,\n",
    "        goal,\n",
    "        robot_urdf,\n",
    "        score,\n",
    "    ):\n",
    "        self.env_name = env_name\n",
    "        self.brain_name = brain_name\n",
    "        self.search_seed = search_seed\n",
    "        self.env_seed = env_seed\n",
    "        self.env_sdf = env_sdf\n",
    "        self.goal = goal\n",
    "        self.robot_urdf = robot_urdf\n",
    "        self.score = score\n",
    "\n",
    "    def __str__(self):\n",
    "        return (\n",
    "            f\"Data(\\n\"\n",
    "            f\"  env_name={self.env_name},\\n\"\n",
    "            f\"  brain_name={self.brain_name},\\n\"\n",
    "            f\"  search_seed={self.search_seed},\\n\"\n",
    "            f\"  env_seed={self.env_seed},\\n\"\n",
    "            f\"  env_sdf={self.env_sdf[0:50]},\\n\"\n",
    "            f\"  goal={self.goal},\\n\"\n",
    "            f\"  robot_urdf={self.robot_urdf[0:50]},\\n\"\n",
    "            f\"  score={self.score}\\n\"\n",
    "            \")\"\n",
    "        )"
   ]
  },
  {
   "cell_type": "markdown",
   "id": "4d7a1292",
   "metadata": {},
   "source": [
    "# read Raw Data"
   ]
  },
  {
   "cell_type": "code",
   "execution_count": 2,
   "id": "8045821e",
   "metadata": {},
   "outputs": [],
   "source": [
    "import os\n",
    "import re\n",
    "\n",
    "data_dir = \"../final/data\"\n",
    "env_pattern = r\"terrain\\d+\"\n",
    "seed_list = [\"seed1234\", \"seed2345\"] \n",
    "brain_type = \"ea\"\n",
    "\n",
    "fitness_file = \"best_fitness.txt\"\n",
    "body_file = \"body.urdf\"\n",
    "brain_file = \"brain-100.nndf\"\n",
    "world_file = \"world.sdf\"\n",
    "            "
   ]
  },
  {
   "cell_type": "code",
   "execution_count": 3,
   "id": "75838b21",
   "metadata": {},
   "outputs": [],
   "source": [
    "def read_file(file_path):\n",
    "    with open(file_path,\"r\") as f:\n",
    "        file_str = f.read()\n",
    "    return file_str"
   ]
  },
  {
   "cell_type": "code",
   "execution_count": 4,
   "id": "eec2eafc",
   "metadata": {},
   "outputs": [],
   "source": [
    "raw_data_dirs = []\n",
    "raw_data_list = []\n",
    "for e in os.listdir(data_dir):\n",
    "    env_path = os.path.join(data_dir,e)\n",
    "    match = re.match(r\"[A-Za-z]+(\\d+)\", e)\n",
    "    if match:\n",
    "        env_seed = int(match.group(1))\n",
    "    if os.path.isdir(env_path) and re.match(env_pattern,e):\n",
    "        for s in os.listdir(env_path):\n",
    "            seed_path = os.path.join(env_path,s)\n",
    "            if os.path.isdir(seed_path) and (s in seed_list):\n",
    "                for b in os.listdir(seed_path):\n",
    "                    if re.match(r\"body\\d+\",b):\n",
    "                        body_path = os.path.join(seed_path,b)\n",
    "                        raw_data_dirs.append(body_path)\n",
    "                        raw_data = RawData(\n",
    "                            env_name=e,\n",
    "                            brain_name=brain_type,\n",
    "                            search_seed=s,\n",
    "                            env_seed=env_seed,\n",
    "                            env_sdf=read_file(os.path.join(env_path, world_file)),\n",
    "                            goal=(100, 0, 0),\n",
    "                            robot_urdf=read_file(os.path.join(body_path, body_file)),\n",
    "                            score=(float(read_file(os.path.join(body_path, fitness_file))), 0 , 0),\n",
    "                        )\n",
    "                        raw_data_list.append(raw_data)"
   ]
  },
  {
   "cell_type": "code",
   "execution_count": 9,
   "id": "e3b129b2",
   "metadata": {},
   "outputs": [
    {
     "data": {
      "text/plain": [
       "'Data(\\n  env_name=terrain36199,\\n  brain_name=ea,\\n  search_seed=seed2345,\\n  env_seed=36199,\\n  env_sdf=<sdf>\\n    <model name=\"terrain0\">\\n        <pose>1.,\\n  goal=(100, 0, 0),\\n  robot_urdf=<robot name = \"robot\">\\n    <link name=\"link1\">\\n   ,\\n  score=(0.6332962657929321, 0, 0)\\n)'"
      ]
     },
     "execution_count": 9,
     "metadata": {},
     "output_type": "execute_result"
    }
   ],
   "source": [
    "str(raw_data_list[120])"
   ]
  },
  {
   "cell_type": "code",
   "execution_count": null,
   "id": "55bb8375",
   "metadata": {},
   "outputs": [],
   "source": []
  },
  {
   "cell_type": "markdown",
   "id": "fbd017b0",
   "metadata": {},
   "source": [
    "# save data"
   ]
  },
  {
   "cell_type": "code",
   "execution_count": 8,
   "id": "25558bb1",
   "metadata": {},
   "outputs": [],
   "source": [
    "from datetime import datetime\n",
    "import pickle\n",
    "\n",
    "now = datetime.now()\n",
    "formatted_now = now.strftime(\"%y%m%d%H%M\")\n",
    "with open(f\"./data/rawdata_{formatted_now}.pkl\", \"wb\") as file:\n",
    "    pickle.dump(raw_data_list, file)"
   ]
  },
  {
   "cell_type": "markdown",
   "id": "bda8dd86",
   "metadata": {},
   "source": [
    "# read data"
   ]
  },
  {
   "cell_type": "code",
   "execution_count": 4,
   "id": "14b6c42b",
   "metadata": {},
   "outputs": [],
   "source": [
    "import pickle\n",
    "def read_data(file_path):\n",
    "    with open(file_path, \"rb\") as f:\n",
    "        loaded_data = pickle.load(f)\n",
    "    return loaded_data"
   ]
  },
  {
   "cell_type": "code",
   "execution_count": 5,
   "id": "e1829ff9",
   "metadata": {},
   "outputs": [],
   "source": [
    "raw_data= read_data(\"./data/rawdata_2304040613.pkl\")"
   ]
  },
  {
   "cell_type": "code",
   "execution_count": 6,
   "id": "8d6268a8",
   "metadata": {},
   "outputs": [
    {
     "data": {
      "text/plain": [
       "'Data(\\n  env_name=terrain36199,\\n  brain_name=ea,\\n  search_seed=seed1234,\\n  env_seed=36199,\\n  env_sdf=<sdf>\\n    <model name=\"terrain0\">\\n        <pose>1.,\\n  goal=(100, 0, 0),\\n  robot_urdf=<robot name = \"robot\">\\n    <link name=\"link1\">\\n   ,\\n  score=(0.24942633879748496, 0, 0)\\n)'"
      ]
     },
     "execution_count": 6,
     "metadata": {},
     "output_type": "execute_result"
    }
   ],
   "source": [
    "str(raw_data[0])"
   ]
  },
  {
   "cell_type": "code",
   "execution_count": null,
   "id": "5a242f69",
   "metadata": {},
   "outputs": [],
   "source": []
  },
  {
   "cell_type": "markdown",
   "id": "c3b67514",
   "metadata": {},
   "source": [
    "# transform data"
   ]
  },
  {
   "cell_type": "code",
   "execution_count": 1,
   "id": "4990981b",
   "metadata": {},
   "outputs": [],
   "source": [
    "def convert_urdf_to_sequence(urdf_string):\n",
    "    root = ET.fromstring(urdf_string)\n",
    "    # Extract the desired information\n",
    "    sequence = []\n",
    "    for element in root:\n",
    "        if element.tag == \"joint\":\n",
    "            parent_name = element.find(\"parent\").attrib[\"link\"]\n",
    "            node_name = element.find(\"child\").attrib[\"link\"]\n",
    "            joint_axis = element.find(\"axis\").attrib[\"xyz\"]\n",
    "            joint_type = element.attrib[\"type\"]\n",
    "            sequence.append((parent_name, node_name, joint_axis, joint_type))\n",
    "        elif element.tag == \"link\":\n",
    "            node_name = element.attrib[\"name\"]\n",
    "            # Extract the link type and size from the visual geometry\n",
    "            visual_geometry = element.find(\"visual/geometry\")\n",
    "            link_type = None\n",
    "            link_size = None\n",
    "            if visual_geometry is not None:\n",
    "                link_type = list(visual_geometry)[0].tag\n",
    "                if link_type == \"sphere\":\n",
    "                    radius = float(visual_geometry.find(\"sphere\").attrib[\"radius\"])\n",
    "                    link_size = (radius,radius,radius)\n",
    "                elif link_type == \"box\":\n",
    "                    size_str = visual_geometry.find(\"box\").attrib[\"size\"]\n",
    "                    link_size = tuple([float(s) for s in size_str.split()])\n",
    "                elif link_type == \"cylinder\":\n",
    "                    length = float(visual_geometry.find(\"cylinder\").attrib[\"length\"])\n",
    "                    radius = float(visual_geometry.find(\"cylinder\").attrib[\"radius\"])\n",
    "                    link_size = (radius,radius,length)\n",
    "\n",
    "            # Extract the sensor tag (assuming it's stored in the material name attribute)\n",
    "            sensor_color = element.find(\"visual/material\").attrib[\"name\"] if element.find(\"visual/material\") is not None else \"unknown\"\n",
    "            sensor_tag = True if \"sensored\" in sensor_color else False\n",
    "            sequence.append((node_name, link_type, link_size, sensor_tag))\n",
    "    return sequence"
   ]
  },
  {
   "cell_type": "code",
   "execution_count": 2,
   "id": "044b9b27",
   "metadata": {},
   "outputs": [],
   "source": [
    "def convert_sdf_to_gridmap(sdf_string, return_submap=False):\n",
    "    # Parse the SDF string\n",
    "    root = ET.fromstring(sdf_string)\n",
    "    # Create a grid map representation\n",
    "    grid_resolution = 1  # Adjust as needed\n",
    "    grid_size = [10, 10]  # Adjust as needed (this should be large enough to cover the entire space)\n",
    "    grid_map = np.zeros(grid_size, dtype=np.double) #grid_map = np.zeros(grid_size, dtype=np.uint8)\n",
    "    # Iterate over each model in the SDF file\n",
    "    for model in root.findall(\".//model\"):\n",
    "        # Extract box dimensions and pose\n",
    "        box_size = model.find(\".//box/size\").text.split()\n",
    "        box_size = [float(dim) for dim in box_size]\n",
    "        box_pose = model.find(\".//pose\").text.split()\n",
    "        box_position = [float(coord) for coord in box_pose[:3]]\n",
    "        box_rotation = [float(angle) for angle in box_pose[3:]]\n",
    "        # Fill in the grid cells corresponding to the box\n",
    "        offset = [int(coord / grid_resolution + size / 2) for (coord, size) in zip(box_position[0:2],grid_size)]\n",
    "        for i in range(offset[0], min(grid_size[0], offset[0] + int(box_size[0] / grid_resolution))):\n",
    "            for j in range(offset[1], min(grid_size[1], offset[1] + int(box_size[1] / grid_resolution))):\n",
    "                grid_map[i, j] = box_size[2] #1\n",
    "    if return_submap:\n",
    "        return grid_map[6:10,3:7]\n",
    "    else:\n",
    "        return grid_map"
   ]
  },
  {
   "cell_type": "code",
   "execution_count": 5,
   "id": "816494ba",
   "metadata": {},
   "outputs": [],
   "source": [
    "import numpy as np\n",
    "import xml.etree.ElementTree as ET\n",
    "\n",
    "from src.utils.data_utils import PreprocessedData as PreprocessedData\n",
    "from src.utils.data_utils import read_data as read_data\n",
    "from src.utils.data_utils import save_data as save_data\n",
    "\n",
    "class DataTransformer:\n",
    "    def __init__(self):\n",
    "        pass\n",
    "    \n",
    "    def generate_sequence(self, data_file, save_dir=\"./data/preprocessed\", subset=None):   \n",
    "        raw_data = read_data(data_file)\n",
    "        processed_data = []\n",
    "        for single_data in raw_data[0:subset]:\n",
    "            sdf_sequence = convert_sdf_to_gridmap(single_data.env_sdf, return_submap=True)\n",
    "            goal_sequence = single_data.goal\n",
    "            urdf_sequence = convert_urdf_to_sequence(single_data.robot_urdf)\n",
    "            score_sequence = single_data.score\n",
    "            processed_data.append(PreprocessedData(sdf_sequence, goal_sequence, urdf_sequence, score_sequence))\n",
    "        \n",
    "        file_path = save_data(save_dir, processed_data)\n",
    "        return file_path\n",
    "        "
   ]
  },
  {
   "cell_type": "code",
   "execution_count": 7,
   "id": "08120890",
   "metadata": {},
   "outputs": [],
   "source": [
    "data_tf = DataTransformer()\n",
    "prepcossed_file = data_tf.generate_sequence(\"./data/raw/rawdata_2304041648.pkl\",subset=10)"
   ]
  },
  {
   "cell_type": "code",
   "execution_count": 14,
   "id": "9986b36d",
   "metadata": {},
   "outputs": [],
   "source": [
    "preprocessed_data = read_data(prepcossed_file)"
   ]
  },
  {
   "cell_type": "code",
   "execution_count": null,
   "id": "539c3c1b",
   "metadata": {},
   "outputs": [],
   "source": []
  },
  {
   "cell_type": "markdown",
   "id": "8c1b36ac",
   "metadata": {},
   "source": [
    "# test"
   ]
  },
  {
   "cell_type": "code",
   "execution_count": 3,
   "id": "70c2c45e",
   "metadata": {},
   "outputs": [],
   "source": [
    "from src.utils.data_utils import read_data as read_data\n"
   ]
  },
  {
   "cell_type": "code",
   "execution_count": 4,
   "id": "b3bc4a78",
   "metadata": {},
   "outputs": [],
   "source": [
    "preprocess_file = \"./data/preprocessed/data_2304041728.pkl\""
   ]
  },
  {
   "cell_type": "code",
   "execution_count": 13,
   "id": "6cb872ae",
   "metadata": {},
   "outputs": [],
   "source": [
    "preprocessed_data = read_data(preprocess_file)"
   ]
  },
  {
   "cell_type": "code",
   "execution_count": 15,
   "id": "ed885abd",
   "metadata": {},
   "outputs": [
    {
     "data": {
      "text/plain": [
       "\"grid map: [[0.11291883 0.17559345 0.18491636 0.01630437]\\n [0.14999127 0.0477891  0.00673156 0.16555812]\\n [0.1934127  0.17415358 0.13729455 0.04104825]\\n [0.04599994 0.04189273 0.18438424 0.12505994]], goal: (100, 0, 0), urdf: [('link1', 'sphere', (0.07622079994336455, 0.07622079994336455, 0.07622079994336455), False), ('link2', 'cylinder', (0.09602669424199578, 0.09602669424199578, 0.21849463163998928), True), ('link3', 'cylinder', (0.08972565871825965, 0.08972565871825965, 0.3602986477224373), True), ('link1', 'link2', '0 1 0', 'spherical'), ('link2', 'link3', '0 1 0', 'revolute')], score: (0.24942633879748496, 0, 0)\""
      ]
     },
     "execution_count": 15,
     "metadata": {},
     "output_type": "execute_result"
    }
   ],
   "source": [
    "str(preprocessed_data[0])"
   ]
  },
  {
   "cell_type": "code",
   "execution_count": null,
   "id": "a67b1bee",
   "metadata": {},
   "outputs": [],
   "source": []
  }
 ],
 "metadata": {
  "kernelspec": {
   "display_name": "Python 3 (ipykernel)",
   "language": "python",
   "name": "python3"
  },
  "language_info": {
   "codemirror_mode": {
    "name": "ipython",
    "version": 3
   },
   "file_extension": ".py",
   "mimetype": "text/x-python",
   "name": "python",
   "nbconvert_exporter": "python",
   "pygments_lexer": "ipython3",
   "version": "3.9.5"
  }
 },
 "nbformat": 4,
 "nbformat_minor": 5
}
