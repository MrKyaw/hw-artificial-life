{
 "cells": [
  {
   "cell_type": "markdown",
   "id": "8b7d9b1c",
   "metadata": {},
   "source": [
    "### TODO: we lost expand dimension infomation"
   ]
  },
  {
   "cell_type": "code",
   "execution_count": 2,
   "id": "8bd27332",
   "metadata": {},
   "outputs": [],
   "source": [
    "from src.utils.data_utils import read_data as read_data"
   ]
  },
  {
   "cell_type": "code",
   "execution_count": 3,
   "id": "3d57e9e4",
   "metadata": {},
   "outputs": [],
   "source": [
    "preprocessed_data = read_data(\"./data/preprocessed/data_2304041728.pkl\")"
   ]
  },
  {
   "cell_type": "code",
   "execution_count": null,
   "id": "5bb05d92",
   "metadata": {},
   "outputs": [],
   "source": []
  },
  {
   "cell_type": "code",
   "execution_count": 10,
   "id": "9062f8c7",
   "metadata": {},
   "outputs": [],
   "source": [
    "import src.data_preprocessing.data_transformer as data_transformer\n",
    "dataset = data_transformer.preprocess_data(\"./data/preprocessed/data_2304041728.pkl\")"
   ]
  },
  {
   "cell_type": "code",
   "execution_count": 34,
   "id": "6bd87eec",
   "metadata": {},
   "outputs": [
    {
     "data": {
      "text/plain": [
       "\"grid map: [[0.11 0.18 0.18 0.02]\\n [0.15 0.05 0.01 0.17]\\n [0.19 0.17 0.14 0.04]\\n [0.05 0.04 0.18 0.13]], goal: (100, 0, 0), urdf: [('link1', 'sphere', (0.14, 0.14, 0.14), True), ('link2', 'sphere', (0.18, 0.18, 0.18), False), ('link3', 'cylinder', (0.12, 0.12, 0.14), False), ('link4', 'cylinder', (0.13, 0.13, 0.31), True), ('link5', 'box', (0.32, 0.34, 0.2), False), ('link6', 'sphere', (0.13, 0.13, 0.13), True), ('link7', 'box', (0.25, 0.12, 0.25), False), ('link1', 'link2', '0 1 0', 'fixed'), ('link1', 'link3', '0 1 0', 'fixed'), ('link2', 'link4', '0 1 0', 'fixed'), ('link3', 'link5', '1 0 0', 'fixed'), ('link3', 'link6', '1 0 0', 'spherical'), ('link3', 'link7', '1 0 0', 'fixed')], score: (0.33, 0, 0)\""
      ]
     },
     "execution_count": 34,
     "metadata": {},
     "output_type": "execute_result"
    }
   ],
   "source": [
    "str(dataset[219])"
   ]
  },
  {
   "cell_type": "code",
   "execution_count": 39,
   "id": "6bbbb902",
   "metadata": {},
   "outputs": [
    {
     "name": "stdout",
     "output_type": "stream",
     "text": [
      "grid map: [[0.11 0.18 0.18 0.02]\n",
      " [0.15 0.05 0.01 0.17]\n",
      " [0.19 0.17 0.14 0.04]\n",
      " [0.05 0.04 0.18 0.13]], goal: (100, 0, 0), urdf: [('link1', 'box', (0.3, 0.3, 0.32), False), ('link2', 'box', (0.2, 0.13, 0.32), True), ('link3', 'box', (0.25, 0.39, 0.13), True), ('link1', 'link2', '0 0 1', 'revolute'), ('link2', 'link3', '0 1 0', 'revolute')], score: (0.33, 0, 0)\n"
     ]
    }
   ],
   "source": [
    "for p in dataset[0:220]:\n",
    "    if \"[('link1', 'box', (0.3, 0.3, 0.32), False), ('link2', 'box', (0.2, 0.13, 0.32), True), \\\n",
    "('link3', 'box', (0.25, 0.39, 0.13), True), \\\n",
    "('link1', 'link2', '0 0 1', 'revolute'), \\\n",
    "('link2', 'link3', '0 1 0', 'revolute')]\" in str(p):\n",
    "        print(p)\n",
    "        break"
   ]
  },
  {
   "cell_type": "code",
   "execution_count": null,
   "id": "32f8f9f3",
   "metadata": {},
   "outputs": [],
   "source": []
  },
  {
   "cell_type": "code",
   "execution_count": null,
   "id": "6bf1aed7",
   "metadata": {},
   "outputs": [],
   "source": []
  },
  {
   "cell_type": "code",
   "execution_count": 1,
   "id": "2c129295",
   "metadata": {},
   "outputs": [],
   "source": [
    "robot_description = [('link1', 'box', (0.3, 0.3, 0.32), False), \n",
    "     ('link2', 'box', (0.2, 0.13, 0.32), True), \n",
    "     ('link3', 'box', (0.25, 0.39, 0.13), True), \n",
    "     ('link1', 'link2', '0 0 1', 'revolute'), \n",
    "     ('link2', 'link3', '0 1 0', 'revolute')] \n",
    "score = 0.38"
   ]
  },
  {
   "cell_type": "code",
   "execution_count": null,
   "id": "b8e7ac5e",
   "metadata": {},
   "outputs": [],
   "source": []
  },
  {
   "cell_type": "code",
   "execution_count": 5,
   "id": "54b1646c",
   "metadata": {},
   "outputs": [],
   "source": [
    "def convert_description_to_urdf():\n",
    "    return "
   ]
  },
  {
   "cell_type": "code",
   "execution_count": 2,
   "id": "2b47b64f",
   "metadata": {},
   "outputs": [
    {
     "name": "stdout",
     "output_type": "stream",
     "text": [
      "('link1', 'box', (0.3, 0.3, 0.32), False)\n",
      "('link2', 'box', (0.2, 0.13, 0.32), True)\n",
      "('link3', 'box', (0.25, 0.39, 0.13), True)\n",
      "('link1', 'link2', '0 0 1', 'revolute')\n",
      "('link2', 'link3', '0 1 0', 'revolute')\n"
     ]
    }
   ],
   "source": [
    "for rd in robot_description:\n",
    "    print(rd)"
   ]
  },
  {
   "cell_type": "code",
   "execution_count": 3,
   "id": "98be803c",
   "metadata": {},
   "outputs": [],
   "source": []
  },
  {
   "cell_type": "code",
   "execution_count": null,
   "id": "0166f7d7",
   "metadata": {},
   "outputs": [],
   "source": []
  },
  {
   "cell_type": "code",
   "execution_count": null,
   "id": "c0929675",
   "metadata": {},
   "outputs": [],
   "source": []
  },
  {
   "cell_type": "markdown",
   "id": "a16f2096",
   "metadata": {},
   "source": [
    "### test"
   ]
  },
  {
   "cell_type": "code",
   "execution_count": 59,
   "id": "c4ac3d48",
   "metadata": {},
   "outputs": [],
   "source": [
    "from src.utils.data_utils import read_data as read_data\n",
    "p_data = read_data(\"./data/preprocessed/data_2304061552.pkl\")"
   ]
  },
  {
   "cell_type": "code",
   "execution_count": 61,
   "id": "0838a449",
   "metadata": {},
   "outputs": [
    {
     "data": {
      "text/plain": [
       "\"grid map: [[0.11291883 0.17559345 0.18491636 0.01630437]\\n [0.14999127 0.0477891  0.00673156 0.16555812]\\n [0.1934127  0.17415358 0.13729455 0.04104825]\\n [0.04599994 0.04189273 0.18438424 0.12505994]], goal: (100, 0, 0), urdf: [{'link_name': 'link1', 'link_type': 'sphere', 'link_size': (0.07622079994336455, 0.07622079994336455, 0.07622079994336455), 'sensor_tag': False}, {'link_name': 'link2', 'link_type': 'cylinder', 'link_size': (0.09602669424199578, 0.09602669424199578, 0.21849463163998928), 'sensor_tag': True}, {'link_name': 'link3', 'link_type': 'cylinder', 'link_size': (0.08972565871825965, 0.08972565871825965, 0.3602986477224373), 'sensor_tag': True}, {'parent_name': 'link1', 'link_name': 'link2', 'joint_axis': '0 1 0', 'joint_type': 'spherical', 'joint_direction': '0 0 -1'}, {'parent_name': 'link2', 'link_name': 'link3', 'joint_axis': '0 1 0', 'joint_type': 'revolute', 'joint_direction': '0 0 -1'}], score: (0.24942633879748496, 0, 0)\""
      ]
     },
     "execution_count": 61,
     "metadata": {},
     "output_type": "execute_result"
    }
   ],
   "source": [
    "str(p_data[0])"
   ]
  },
  {
   "cell_type": "code",
   "execution_count": 60,
   "id": "7358c6a4",
   "metadata": {},
   "outputs": [
    {
     "data": {
      "text/plain": [
       "(array([[0.11, 0.18, 0.18, 0.02],\n",
       "        [0.15, 0.05, 0.01, 0.17],\n",
       "        [0.19, 0.17, 0.14, 0.04],\n",
       "        [0.05, 0.04, 0.18, 0.13]]),\n",
       " [('link_name', 'link_type', 'link_size', 'sensor_tag'),\n",
       "  ('link_name', 'link_type', 'link_size', 'sensor_tag'),\n",
       "  ('link_name', 'link_type', 'link_size', 'sensor_tag'),\n",
       "  ('parent_name', 'link_name', 'joint_axis', 'joint_type', 'joint_direction'),\n",
       "  ('parent_name', 'link_name', 'joint_axis', 'joint_type', 'joint_direction')],\n",
       " (100, 0, 0),\n",
       " (0.25, 0, 0))"
      ]
     },
     "execution_count": 60,
     "metadata": {},
     "output_type": "execute_result"
    }
   ],
   "source": [
    "p_data[0].round_sequence(2)"
   ]
  },
  {
   "cell_type": "code",
   "execution_count": 62,
   "id": "b7652039",
   "metadata": {},
   "outputs": [],
   "source": [
    "import pandas as pd"
   ]
  },
  {
   "cell_type": "code",
   "execution_count": 93,
   "id": "77628d4b",
   "metadata": {},
   "outputs": [],
   "source": [
    "df = pd.read_json(\"./data/alpacaed/data_2304061707.json\")"
   ]
  },
  {
   "cell_type": "code",
   "execution_count": 94,
   "id": "7c8f82c7",
   "metadata": {},
   "outputs": [
    {
     "data": {
      "text/plain": [
       "'Grid map is [[0.11 0.18 0.18 0.02]\\n [0.15 0.05 0.01 0.17]\\n [0.19 0.17 0.14 0.04]\\n [0.05 0.04 0.18 0.13]], the goal position is (100, 0, 0), its final position is (0.25, 0, 0)'"
      ]
     },
     "execution_count": 94,
     "metadata": {},
     "output_type": "execute_result"
    }
   ],
   "source": [
    "df.head().iloc[0]['input_sequence']"
   ]
  },
  {
   "cell_type": "code",
   "execution_count": 75,
   "id": "4226d06d",
   "metadata": {},
   "outputs": [],
   "source": [
    "from src.utils.data_utils import read_data as read_data\n",
    "preprocessed_file = read_data(\"./data/preprocessed/data_2304061643.pkl\")"
   ]
  },
  {
   "cell_type": "code",
   "execution_count": 87,
   "id": "24300cca",
   "metadata": {},
   "outputs": [
    {
     "data": {
      "text/plain": [
       "'2304061704'"
      ]
     },
     "execution_count": 87,
     "metadata": {},
     "output_type": "execute_result"
    }
   ],
   "source": [
    "from datetime import datetime\n",
    "now = datetime.now()\n",
    "formatted_now = now.strftime(\"%y%m%d%H%M\")\n",
    "formatted_now"
   ]
  },
  {
   "cell_type": "code",
   "execution_count": 78,
   "id": "4a9ee1ee",
   "metadata": {},
   "outputs": [
    {
     "data": {
      "text/plain": [
       "'[[0.11 0.18 0.18 0.02]\\n [0.15 0.05 0.01 0.17]\\n [0.19 0.17 0.14 0.04]\\n [0.05 0.04 0.18 0.13]]'"
      ]
     },
     "execution_count": 78,
     "metadata": {},
     "output_type": "execute_result"
    }
   ],
   "source": [
    "str(preprocessed_file[0].sdf_sequence)"
   ]
  },
  {
   "cell_type": "code",
   "execution_count": null,
   "id": "acf684d9",
   "metadata": {},
   "outputs": [],
   "source": []
  },
  {
   "cell_type": "markdown",
   "id": "ad323bf6",
   "metadata": {},
   "source": [
    "### fix missing expand dimention"
   ]
  },
  {
   "cell_type": "code",
   "execution_count": 14,
   "id": "dc36d339",
   "metadata": {},
   "outputs": [],
   "source": [
    "from src.utils.data_utils import read_data as read_data\n",
    "raw_data= read_data(\"./data/raw/data_2304041728.pkl\")"
   ]
  },
  {
   "cell_type": "code",
   "execution_count": 29,
   "id": "ae9996d9",
   "metadata": {},
   "outputs": [],
   "source": [
    "import xml.etree.ElementTree as ET\n",
    "\n",
    "def find_direction(input_string):\n",
    "    values = [float(x) for x in input_string.split()]\n",
    "    direction = [0, 0, 0]\n",
    "    \n",
    "    for i, value in enumerate(values):\n",
    "        if value > 0:\n",
    "            direction[i] = 1\n",
    "        elif value < 0:\n",
    "            direction[i] = -1\n",
    "            \n",
    "    return ' '.join(map(str, direction))\n",
    "\n",
    "def convert_urdf_to_sequence(urdf_string):\n",
    "    root = ET.fromstring(urdf_string)\n",
    "    # Extract the desired information\n",
    "    sequence = []\n",
    "    for element in root:\n",
    "        if element.tag == \"joint\":\n",
    "            parent_name = element.find(\"parent\").attrib[\"link\"]\n",
    "            child_link_name = element.find(\"child\").attrib[\"link\"]\n",
    "            joint_axis = element.find(\"axis\").attrib[\"xyz\"]\n",
    "            joint_type = element.attrib[\"type\"]\n",
    "            joint_direction = find_direction(element.find(\"origin\").attrib[\"xyz\"])\n",
    "            # sequence.append((parent_name, node_name, joint_axis, joint_type, joint_direction))\n",
    "            joint_dict = {\n",
    "                'parent_name': parent_name,\n",
    "                'link_name': child_link_name,\n",
    "                'joint_axis': joint_axis,\n",
    "                'joint_type': joint_type,\n",
    "                'joint_direction': joint_direction,\n",
    "            }\n",
    "            sequence.append(joint_dict)\n",
    "        elif element.tag == \"link\":\n",
    "            link_name = element.attrib[\"name\"]\n",
    "            # Extract the link type and size from the visual geometry\n",
    "            visual_geometry = element.find(\"visual/geometry\")\n",
    "            link_type = None\n",
    "            link_size = None\n",
    "            if visual_geometry is not None:\n",
    "                link_type = list(visual_geometry)[0].tag\n",
    "                if link_type == \"sphere\":\n",
    "                    radius = float(visual_geometry.find(\"sphere\").attrib[\"radius\"])\n",
    "                    link_size = (radius,radius,radius)\n",
    "                elif link_type == \"box\":\n",
    "                    size_str = visual_geometry.find(\"box\").attrib[\"size\"]\n",
    "                    link_size = tuple([float(s) for s in size_str.split()])\n",
    "                elif link_type == \"cylinder\":\n",
    "                    length = float(visual_geometry.find(\"cylinder\").attrib[\"length\"])\n",
    "                    radius = float(visual_geometry.find(\"cylinder\").attrib[\"radius\"])\n",
    "                    link_size = (radius,radius,length)\n",
    "\n",
    "            # Extract the sensor tag (assuming it's stored in the material name attribute)\n",
    "            sensor_color = element.find(\"visual/material\").attrib[\"name\"] if element.find(\"visual/material\") is not None else \"unknown\"\n",
    "            sensor_tag = True if \"sensored\" in sensor_color else False\n",
    "            # sequence.append((node_name, link_type, link_size, sensor_tag))\n",
    "            link_dict = {\n",
    "                'link_name': link_name,\n",
    "                'link_type': link_type,\n",
    "                'link_size': link_size,\n",
    "                'sensor_tag': sensor_tag,\n",
    "            }\n",
    "            sequence.append(link_dict)\n",
    "    return sequence"
   ]
  },
  {
   "cell_type": "code",
   "execution_count": 32,
   "id": "e78238a5",
   "metadata": {},
   "outputs": [],
   "source": [
    "urdf_str = raw_data[500].robot_urdf"
   ]
  },
  {
   "cell_type": "code",
   "execution_count": 47,
   "id": "a9855b4e",
   "metadata": {},
   "outputs": [],
   "source": [
    "urdf_sequence = convert_urdf_to_sequence(urdf_str)\n",
    "# use dictionaty, but not list"
   ]
  },
  {
   "cell_type": "code",
   "execution_count": 48,
   "id": "b8802df6",
   "metadata": {},
   "outputs": [],
   "source": [
    "rounded_data = []\n",
    "for seq in urdf_sequence:\n",
    "    new_item = {}\n",
    "    for key, value in seq.items():\n",
    "        if isinstance(value, tuple):\n",
    "            new_item[key] = tuple(round(x, 2) for x in value)\n",
    "        else:\n",
    "            new_item[key] = value\n",
    "    rounded_data.append(new_item)"
   ]
  },
  {
   "cell_type": "code",
   "execution_count": null,
   "id": "c7c6e0ad",
   "metadata": {
    "scrolled": true
   },
   "outputs": [],
   "source": [
    "rounded_data"
   ]
  }
 ],
 "metadata": {
  "kernelspec": {
   "display_name": "Python 3 (ipykernel)",
   "language": "python",
   "name": "python3"
  },
  "language_info": {
   "codemirror_mode": {
    "name": "ipython",
    "version": 3
   },
   "file_extension": ".py",
   "mimetype": "text/x-python",
   "name": "python",
   "nbconvert_exporter": "python",
   "pygments_lexer": "ipython3",
   "version": "3.9.5"
  }
 },
 "nbformat": 4,
 "nbformat_minor": 5
}
