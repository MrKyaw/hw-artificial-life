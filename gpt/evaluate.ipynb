{
 "cells": [
  {
   "cell_type": "markdown",
   "id": "8b7d9b1c",
   "metadata": {},
   "source": [
    "### TODO: we lost expand dimension infomation"
   ]
  },
  {
   "cell_type": "code",
   "execution_count": 2,
   "id": "8bd27332",
   "metadata": {},
   "outputs": [],
   "source": [
    "from src.utils.data_utils import read_data as read_data"
   ]
  },
  {
   "cell_type": "code",
   "execution_count": 3,
   "id": "3d57e9e4",
   "metadata": {},
   "outputs": [],
   "source": [
    "preprocessed_data = read_data(\"./data/preprocessed/data_2304041728.pkl\")"
   ]
  },
  {
   "cell_type": "code",
   "execution_count": null,
   "id": "5bb05d92",
   "metadata": {},
   "outputs": [],
   "source": []
  },
  {
   "cell_type": "code",
   "execution_count": 10,
   "id": "9062f8c7",
   "metadata": {},
   "outputs": [],
   "source": [
    "import src.data_preprocessing.data_transformer as data_transformer\n",
    "dataset = data_transformer.preprocess_data(\"./data/preprocessed/data_2304041728.pkl\")"
   ]
  },
  {
   "cell_type": "code",
   "execution_count": 34,
   "id": "6bd87eec",
   "metadata": {},
   "outputs": [
    {
     "data": {
      "text/plain": [
       "\"grid map: [[0.11 0.18 0.18 0.02]\\n [0.15 0.05 0.01 0.17]\\n [0.19 0.17 0.14 0.04]\\n [0.05 0.04 0.18 0.13]], goal: (100, 0, 0), urdf: [('link1', 'sphere', (0.14, 0.14, 0.14), True), ('link2', 'sphere', (0.18, 0.18, 0.18), False), ('link3', 'cylinder', (0.12, 0.12, 0.14), False), ('link4', 'cylinder', (0.13, 0.13, 0.31), True), ('link5', 'box', (0.32, 0.34, 0.2), False), ('link6', 'sphere', (0.13, 0.13, 0.13), True), ('link7', 'box', (0.25, 0.12, 0.25), False), ('link1', 'link2', '0 1 0', 'fixed'), ('link1', 'link3', '0 1 0', 'fixed'), ('link2', 'link4', '0 1 0', 'fixed'), ('link3', 'link5', '1 0 0', 'fixed'), ('link3', 'link6', '1 0 0', 'spherical'), ('link3', 'link7', '1 0 0', 'fixed')], score: (0.33, 0, 0)\""
      ]
     },
     "execution_count": 34,
     "metadata": {},
     "output_type": "execute_result"
    }
   ],
   "source": [
    "str(dataset[219])"
   ]
  },
  {
   "cell_type": "code",
   "execution_count": 39,
   "id": "6bbbb902",
   "metadata": {},
   "outputs": [
    {
     "name": "stdout",
     "output_type": "stream",
     "text": [
      "grid map: [[0.11 0.18 0.18 0.02]\n",
      " [0.15 0.05 0.01 0.17]\n",
      " [0.19 0.17 0.14 0.04]\n",
      " [0.05 0.04 0.18 0.13]], goal: (100, 0, 0), urdf: [('link1', 'box', (0.3, 0.3, 0.32), False), ('link2', 'box', (0.2, 0.13, 0.32), True), ('link3', 'box', (0.25, 0.39, 0.13), True), ('link1', 'link2', '0 0 1', 'revolute'), ('link2', 'link3', '0 1 0', 'revolute')], score: (0.33, 0, 0)\n"
     ]
    }
   ],
   "source": [
    "for p in dataset[0:220]:\n",
    "    if \"[('link1', 'box', (0.3, 0.3, 0.32), False), ('link2', 'box', (0.2, 0.13, 0.32), True), \\\n",
    "('link3', 'box', (0.25, 0.39, 0.13), True), \\\n",
    "('link1', 'link2', '0 0 1', 'revolute'), \\\n",
    "('link2', 'link3', '0 1 0', 'revolute')]\" in str(p):\n",
    "        print(p)\n",
    "        break"
   ]
  },
  {
   "cell_type": "code",
   "execution_count": null,
   "id": "32f8f9f3",
   "metadata": {},
   "outputs": [],
   "source": []
  },
  {
   "cell_type": "code",
   "execution_count": null,
   "id": "6bf1aed7",
   "metadata": {},
   "outputs": [],
   "source": []
  },
  {
   "cell_type": "code",
   "execution_count": 1,
   "id": "2c129295",
   "metadata": {},
   "outputs": [],
   "source": [
    "robot_description = [('link1', 'box', (0.3, 0.3, 0.32), False), \n",
    "     ('link2', 'box', (0.2, 0.13, 0.32), True), \n",
    "     ('link3', 'box', (0.25, 0.39, 0.13), True), \n",
    "     ('link1', 'link2', '0 0 1', 'revolute'), \n",
    "     ('link2', 'link3', '0 1 0', 'revolute')] \n",
    "score = 0.38"
   ]
  },
  {
   "cell_type": "code",
   "execution_count": null,
   "id": "b8e7ac5e",
   "metadata": {},
   "outputs": [],
   "source": []
  },
  {
   "cell_type": "code",
   "execution_count": 5,
   "id": "54b1646c",
   "metadata": {},
   "outputs": [],
   "source": [
    "def convert_description_to_urdf():\n",
    "    return "
   ]
  },
  {
   "cell_type": "code",
   "execution_count": 2,
   "id": "2b47b64f",
   "metadata": {},
   "outputs": [
    {
     "name": "stdout",
     "output_type": "stream",
     "text": [
      "('link1', 'box', (0.3, 0.3, 0.32), False)\n",
      "('link2', 'box', (0.2, 0.13, 0.32), True)\n",
      "('link3', 'box', (0.25, 0.39, 0.13), True)\n",
      "('link1', 'link2', '0 0 1', 'revolute')\n",
      "('link2', 'link3', '0 1 0', 'revolute')\n"
     ]
    }
   ],
   "source": [
    "for rd in robot_description:\n",
    "    print(rd)"
   ]
  },
  {
   "cell_type": "code",
   "execution_count": 3,
   "id": "98be803c",
   "metadata": {},
   "outputs": [],
   "source": []
  },
  {
   "cell_type": "code",
   "execution_count": null,
   "id": "47ff5e4b",
   "metadata": {},
   "outputs": [],
   "source": []
  },
  {
   "cell_type": "code",
   "execution_count": null,
   "id": "ae9996d9",
   "metadata": {},
   "outputs": [],
   "source": []
  }
 ],
 "metadata": {
  "kernelspec": {
   "display_name": "Python 3 (ipykernel)",
   "language": "python",
   "name": "python3"
  },
  "language_info": {
   "codemirror_mode": {
    "name": "ipython",
    "version": 3
   },
   "file_extension": ".py",
   "mimetype": "text/x-python",
   "name": "python",
   "nbconvert_exporter": "python",
   "pygments_lexer": "ipython3",
   "version": "3.8.11"
  }
 },
 "nbformat": 4,
 "nbformat_minor": 5
}
